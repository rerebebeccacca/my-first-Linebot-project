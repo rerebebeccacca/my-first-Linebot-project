{
  "nbformat": 4,
  "nbformat_minor": 0,
  "metadata": {
    "colab": {
      "name": "008_自主練習.ipynb",
      "provenance": []
    },
    "kernelspec": {
      "name": "python3",
      "display_name": "Python 3"
    }
  },
  "cells": [
    {
      "cell_type": "code",
      "metadata": {
        "id": "lq5PQA7FPPIi",
        "outputId": "7d9c40bc-517e-4d8e-d291-6e4ae3da3706",
        "colab": {
          "base_uri": "https://localhost:8080/"
        }
      },
      "source": [
        "from google.colab import drive\n",
        "drive.mount('/content/drive')\n"
      ],
      "execution_count": 45,
      "outputs": [
        {
          "output_type": "stream",
          "text": [
            "Drive already mounted at /content/drive; to attempt to forcibly remount, call drive.mount(\"/content/drive\", force_remount=True).\n"
          ],
          "name": "stdout"
        }
      ]
    },
    {
      "cell_type": "code",
      "metadata": {
        "id": "_m-_eud2vGJ5",
        "outputId": "07675af0-9bb0-4052-e284-6426167fc3cc",
        "colab": {
          "base_uri": "https://localhost:8080/"
        }
      },
      "source": [
        "!pip install line-bot-sdk flask flask-ngrok\n"
      ],
      "execution_count": 46,
      "outputs": [
        {
          "output_type": "stream",
          "text": [
            "Requirement already satisfied: line-bot-sdk in /usr/local/lib/python3.7/dist-packages (1.19.0)\n",
            "Requirement already satisfied: flask in /usr/local/lib/python3.7/dist-packages (1.1.2)\n",
            "Requirement already satisfied: flask-ngrok in /usr/local/lib/python3.7/dist-packages (0.0.25)\n",
            "Requirement already satisfied: requests>=2.0 in /usr/local/lib/python3.7/dist-packages (from line-bot-sdk) (2.23.0)\n",
            "Requirement already satisfied: future in /usr/local/lib/python3.7/dist-packages (from line-bot-sdk) (0.16.0)\n",
            "Requirement already satisfied: Werkzeug>=0.15 in /usr/local/lib/python3.7/dist-packages (from flask) (2.0.0)\n",
            "Requirement already satisfied: click>=5.1 in /usr/local/lib/python3.7/dist-packages (from flask) (8.0.0)\n",
            "Requirement already satisfied: itsdangerous>=0.24 in /usr/local/lib/python3.7/dist-packages (from flask) (2.0.0)\n",
            "Requirement already satisfied: Jinja2>=2.10.1 in /usr/local/lib/python3.7/dist-packages (from flask) (2.11.3)\n",
            "Requirement already satisfied: chardet<4,>=3.0.2 in /usr/local/lib/python3.7/dist-packages (from requests>=2.0->line-bot-sdk) (3.0.4)\n",
            "Requirement already satisfied: urllib3!=1.25.0,!=1.25.1,<1.26,>=1.21.1 in /usr/local/lib/python3.7/dist-packages (from requests>=2.0->line-bot-sdk) (1.24.3)\n",
            "Requirement already satisfied: certifi>=2017.4.17 in /usr/local/lib/python3.7/dist-packages (from requests>=2.0->line-bot-sdk) (2020.12.5)\n",
            "Requirement already satisfied: idna<3,>=2.5 in /usr/local/lib/python3.7/dist-packages (from requests>=2.0->line-bot-sdk) (2.10)\n",
            "Requirement already satisfied: MarkupSafe>=0.23 in /usr/local/lib/python3.7/dist-packages (from Jinja2>=2.10.1->flask) (2.0.0)\n"
          ],
          "name": "stdout"
        }
      ]
    },
    {
      "cell_type": "code",
      "metadata": {
        "id": "hTlDBe1jvTsv"
      },
      "source": [
        "from flask import Flask, request, abort,jsonify\n",
        "import json\n",
        "from flask_ngrok import run_with_ngrok\n",
        "from linebot import (\n",
        "    LineBotApi,WebhookHandler\n",
        ")\n",
        "from linebot.exceptions import (\n",
        "    InvalidSignatureError\n",
        ")"
      ],
      "execution_count": 47,
      "outputs": []
    },
    {
      "cell_type": "code",
      "metadata": {
        "id": "-x3up15dv0nB"
      },
      "source": [
        "app = Flask(__name__,static_url_path = \"/material\", static_folder = \"./material/\")\n",
        "run_with_ngrok(app)\n",
        "\n",
        "line_bot_api = LineBotApi(\"9K2lbiSmQIY+xnkbt0MqxyD2SLrHvLY8nTb9Au76oyM+fG7ua4k6khpTN1TMM2aHNpQPDCAgSTgeT/hKZyS7SycCqx+OJaKWezw/tGlIk8P2rOtNIfgR9QEwmPokzcVmn4U1UW802Gs76jLK0cWShAdB04t89/1O/w1cDnyilFU=\")\n",
        "handler = WebhookHandler(\"4257df85eafe8d3c8de0ca1cd8db08a9\")"
      ],
      "execution_count": 48,
      "outputs": []
    },
    {
      "cell_type": "code",
      "metadata": {
        "id": "AObKbvdawXI5"
      },
      "source": [
        "@app.route(\"/\", methods=[\"POST\"])\n",
        "def callback():\n",
        "  signature = request.headers['X-Line-Signature']\n",
        "  body = request.get_data(as_text=True)\n",
        "  print(body)\n",
        "  f = open(\"/content/drive/MyDrive/ai-event.log\",\"a\")\n",
        "  f.write(body)\n",
        "  f.close\n",
        "  try:\n",
        "    handler.handle(body, signature)\n",
        "  except InvalidSignatureError:\n",
        "    abort(400)\n",
        "  return \"OK\"\n"
      ],
      "execution_count": 49,
      "outputs": []
    },
    {
      "cell_type": "code",
      "metadata": {
        "id": "Q6HCou-yxSVS"
      },
      "source": [
        "#引入所需要的消息與模板消息\n",
        "\n",
        "from linebot.models import (\n",
        "    MessageEvent, TemplateSendMessage, PostbackEvent\n",
        ")\n",
        "#引入按鍵模板\n",
        "from linebot.models.template import (\n",
        "    ButtonsTemplate\n",
        ")\n",
        "\n",
        "'''\n",
        "alt_text: Line簡覽視窗所出現的說明文字\n",
        "template: 所使用的模板\n",
        "ButtonsTemplate: 按鍵模板\n",
        "    thumbnail_image_url: 展示圖片\n",
        "    title: 標題\n",
        "    text: 說明文字\n",
        "    actions: 模板行為所使用的行為\n",
        "    data: 觸發postback後用戶回傳值，可以對其做商業邏輯處理\n",
        "\n",
        "'''\n",
        "buttons_template_message = TemplateSendMessage(\n",
        "    alt_text = \"AAA\",\n",
        "    template = ButtonsTemplate(\n",
        "        #thumbnail_image_url = \"https://www.executivecentre.com/wp-content/uploads/sites/34/2020/11/03015830/img-ciy_pass.jpg\",\n",
        "        title = \"請幫幫我\",\n",
        "        text = \"點擊下方按鈕求我幫你\",\n",
        "        actions = [\n",
        "                  {\n",
        "                      \"type\":\"postback\",\n",
        "                      \"label\":\"找找其他方法\",\n",
        "                      \"text\":\"救救我啊我救我\",\n",
        "                      \"data\":\"1234567890\"\n",
        "                  },\n",
        "                  {\n",
        "                      \"type\":\"postback\",\n",
        "                      \"label\":\"給我攻略\",\n",
        "                      \"text\":\"我要callout\",\n",
        "                      \"data\":\"5566\"\n",
        "\n",
        "                  }\n",
        "                ],\n",
        "    )\n",
        ")"
      ],
      "execution_count": 50,
      "outputs": []
    },
    {
      "cell_type": "code",
      "metadata": {
        "id": "OUCN3GtM0h88"
      },
      "source": [
        "from linebot.models import (\n",
        "    MessageEvent, TextMessage, TextSendMessage, ImageSendMessage\n",
        ")\n",
        "# 根據自定義菜單四張故事線的圖，設定相對應image\n",
        "template_message_dict = {\n",
        "    \"@more\" : buttons_template_message,\n",
        "}"
      ],
      "execution_count": 51,
      "outputs": []
    },
    {
      "cell_type": "code",
      "metadata": {
        "id": "bQ16JPzA1EHY"
      },
      "source": [
        "@handler.add(MessageEvent, message=TextMessage)\n",
        "def handle_message(event):\n",
        "\n",
        "  if (event.message.text.find(\"@\")!= -1):\n",
        "    line_bot_api.reply_message(\n",
        "        event.reply_token,\n",
        "        template_message_dict.get(event.message.text)\n",
        "    )\n",
        "  else:\n",
        "    line_bot_api.reply_message(\n",
        "        event.reply_token,\n",
        "        TextSendMessage(text=\"你輸入什麼呀！？如果不知道就輸入@more吧！\")\n",
        "    )\n"
      ],
      "execution_count": 52,
      "outputs": []
    },
    {
      "cell_type": "code",
      "metadata": {
        "id": "KAjjot2i2JHn"
      },
      "source": [
        "@handler.add(PostbackEvent)\n",
        "def handle_post_message(event):\n",
        "  user_profile = line_bot_api.get_profile(event.source.user_id)\n",
        "  if (event.postback.data.find(\"1234567890\")==0):\n",
        "    with open(\"user_profile_business.txt\",\"a\") as myfile:\n",
        "      myfile.write(json.dumps(vars(user_profile),sort_keys=True))\n",
        "      myfile.write(\"\\n\")\n",
        "      line_bot_api.reply_message(\n",
        "          event.reply_token,\n",
        "          TextMessage(\n",
        "              text=\"你等等，我應該會叫人來幫你\"\n",
        "          )\n",
        "      )\n",
        "  elif (event.postback.data.find(\"5566\")== 0):\n",
        "      with open(\"user_profile_tutorial.txt\",\"a\") as myfile:\n",
        "        myfile.write(json.dumps(vars(user_profile),sort_keys=True))\n",
        "        myfile.write(\"\\n\")\n",
        "        line_bot_api.reply_message(\n",
        "            event.reply_token,\n",
        "            TextMessage(\n",
        "                text=\"請稍等，給我一百我就叫專家跟你談\"\n",
        "            )\n",
        "        )\n",
        "  else:\n",
        "      pass"
      ],
      "execution_count": 53,
      "outputs": []
    },
    {
      "cell_type": "code",
      "metadata": {
        "id": "FEOHZF3Q4-d9",
        "outputId": "f399827c-8c33-44b3-b6fc-c74be82f09a5",
        "colab": {
          "base_uri": "https://localhost:8080/"
        }
      },
      "source": [
        "app.run()"
      ],
      "execution_count": null,
      "outputs": [
        {
          "output_type": "stream",
          "text": [
            " * Serving Flask app \"__main__\" (lazy loading)\n",
            " * Environment: production\n",
            "\u001b[31m   WARNING: This is a development server. Do not use it in a production deployment.\u001b[0m\n",
            "\u001b[2m   Use a production WSGI server instead.\u001b[0m\n",
            " * Debug mode: off\n"
          ],
          "name": "stdout"
        },
        {
          "output_type": "stream",
          "text": [
            " * Running on http://127.0.0.1:5000/ (Press CTRL+C to quit)\n"
          ],
          "name": "stderr"
        },
        {
          "output_type": "stream",
          "text": [
            " * Running on http://c4ea2aaf0468.ngrok.io\n",
            " * Traffic stats available on http://127.0.0.1:4040\n",
            "{\"destination\":\"U84891643b3f7d23f39ca3989530192c5\",\"events\":[{\"type\":\"message\",\"message\":{\"type\":\"text\",\"id\":\"14108334684900\",\"text\":\"@more\"},\"timestamp\":1621887558914,\"source\":{\"type\":\"user\",\"userId\":\"U2f25cfa41ca384946f24585d45019074\"},\"replyToken\":\"f368debd51c6436c9f9b8638bd262777\",\"mode\":\"active\"}]}\n"
          ],
          "name": "stdout"
        },
        {
          "output_type": "stream",
          "text": [
            "127.0.0.1 - - [24/May/2021 20:19:20] \"POST / HTTP/1.1\" 200 -\n"
          ],
          "name": "stderr"
        },
        {
          "output_type": "stream",
          "text": [
            "{\"destination\":\"U84891643b3f7d23f39ca3989530192c5\",\"events\":[{\"type\":\"postback\",\"postback\":{\"data\":\"1234567890\"},\"timestamp\":1621887579699,\"source\":{\"type\":\"user\",\"userId\":\"U2f25cfa41ca384946f24585d45019074\"},\"replyToken\":\"47c5d922644b4446947f7b9f83269e71\",\"mode\":\"active\"},{\"type\":\"message\",\"message\":{\"type\":\"text\",\"id\":\"14108335418052\",\"text\":\"救救我啊我救我\"},\"timestamp\":1621887579700,\"source\":{\"type\":\"user\",\"userId\":\"U2f25cfa41ca384946f24585d45019074\"},\"replyToken\":\"6a1e6a45cd374b16a3dcc7b26c7c16e3\",\"mode\":\"active\"}]}\n"
          ],
          "name": "stdout"
        },
        {
          "output_type": "stream",
          "text": [
            "127.0.0.1 - - [24/May/2021 20:19:41] \"POST / HTTP/1.1\" 200 -\n"
          ],
          "name": "stderr"
        },
        {
          "output_type": "stream",
          "text": [
            "{\"destination\":\"U84891643b3f7d23f39ca3989530192c5\",\"events\":[{\"type\":\"postback\",\"postback\":{\"data\":\"5566\"},\"timestamp\":1621887586373,\"source\":{\"type\":\"user\",\"userId\":\"U2f25cfa41ca384946f24585d45019074\"},\"replyToken\":\"0d6808b94e0c4f3a9ef9daee99468f37\",\"mode\":\"active\"},{\"type\":\"message\",\"message\":{\"type\":\"text\",\"id\":\"14108335648564\",\"text\":\"我要callout\"},\"timestamp\":1621887586373,\"source\":{\"type\":\"user\",\"userId\":\"U2f25cfa41ca384946f24585d45019074\"},\"replyToken\":\"4856fc18be424e478fe19bd3ef942b26\",\"mode\":\"active\"}]}\n"
          ],
          "name": "stdout"
        },
        {
          "output_type": "stream",
          "text": [
            "127.0.0.1 - - [24/May/2021 20:19:48] \"POST / HTTP/1.1\" 200 -\n"
          ],
          "name": "stderr"
        }
      ]
    }
  ]
}