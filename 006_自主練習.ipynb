{
  "nbformat": 4,
  "nbformat_minor": 0,
  "metadata": {
    "colab": {
      "name": "006_自主練習.ipynb",
      "provenance": []
    },
    "kernelspec": {
      "name": "python3",
      "display_name": "Python 3"
    }
  },
  "cells": [
    {
      "cell_type": "code",
      "metadata": {
        "id": "tTxCW435ORit",
        "outputId": "ee325866-a78e-489c-87ae-2ea654faa2c6",
        "colab": {
          "base_uri": "https://localhost:8080/"
        }
      },
      "source": [
        "''' \n",
        "資料mapping至google drive\n",
        "把資料寫在/content/drive\n",
        "即可保存在google drive內\n",
        "'''\n",
        "from google.colab import drive\n",
        "drive.mount('/content/drive')\n"
      ],
      "execution_count": 70,
      "outputs": [
        {
          "output_type": "stream",
          "text": [
            "Drive already mounted at /content/drive; to attempt to forcibly remount, call drive.mount(\"/content/drive\", force_remount=True).\n"
          ],
          "name": "stdout"
        }
      ]
    },
    {
      "cell_type": "code",
      "metadata": {
        "id": "h-Ugp5HcSVAU",
        "outputId": "2bd050ea-9005-4faf-cc2c-617a1258b041",
        "colab": {
          "base_uri": "https://localhost:8080/"
        }
      },
      "source": [
        "!pip install line-bot-sdk flask-ngrok"
      ],
      "execution_count": 71,
      "outputs": [
        {
          "output_type": "stream",
          "text": [
            "Requirement already satisfied: line-bot-sdk in /usr/local/lib/python3.7/dist-packages (1.19.0)\n",
            "Requirement already satisfied: flask-ngrok in /usr/local/lib/python3.7/dist-packages (0.0.25)\n",
            "Requirement already satisfied: requests>=2.0 in /usr/local/lib/python3.7/dist-packages (from line-bot-sdk) (2.23.0)\n",
            "Requirement already satisfied: future in /usr/local/lib/python3.7/dist-packages (from line-bot-sdk) (0.16.0)\n",
            "Requirement already satisfied: Flask>=0.8 in /usr/local/lib/python3.7/dist-packages (from flask-ngrok) (1.1.2)\n",
            "Requirement already satisfied: certifi>=2017.4.17 in /usr/local/lib/python3.7/dist-packages (from requests>=2.0->line-bot-sdk) (2020.12.5)\n",
            "Requirement already satisfied: idna<3,>=2.5 in /usr/local/lib/python3.7/dist-packages (from requests>=2.0->line-bot-sdk) (2.10)\n",
            "Requirement already satisfied: chardet<4,>=3.0.2 in /usr/local/lib/python3.7/dist-packages (from requests>=2.0->line-bot-sdk) (3.0.4)\n",
            "Requirement already satisfied: urllib3!=1.25.0,!=1.25.1,<1.26,>=1.21.1 in /usr/local/lib/python3.7/dist-packages (from requests>=2.0->line-bot-sdk) (1.24.3)\n",
            "Requirement already satisfied: click>=5.1 in /usr/local/lib/python3.7/dist-packages (from Flask>=0.8->flask-ngrok) (8.0.0)\n",
            "Requirement already satisfied: Jinja2>=2.10.1 in /usr/local/lib/python3.7/dist-packages (from Flask>=0.8->flask-ngrok) (2.11.3)\n",
            "Requirement already satisfied: Werkzeug>=0.15 in /usr/local/lib/python3.7/dist-packages (from Flask>=0.8->flask-ngrok) (2.0.0)\n",
            "Requirement already satisfied: itsdangerous>=0.24 in /usr/local/lib/python3.7/dist-packages (from Flask>=0.8->flask-ngrok) (2.0.0)\n",
            "Requirement already satisfied: MarkupSafe>=0.23 in /usr/local/lib/python3.7/dist-packages (from Jinja2>=2.10.1->Flask>=0.8->flask-ngrok) (2.0.0)\n"
          ],
          "name": "stdout"
        }
      ]
    },
    {
      "cell_type": "code",
      "metadata": {
        "id": "qqwtqrrASbdi"
      },
      "source": [
        "from flask import Flask, request, abort, jsonify\n",
        "import json\n",
        "from flask_ngrok import run_with_ngrok\n",
        "\n",
        "from linebot import (\n",
        "    LineBotApi, WebhookHandler\n",
        ")\n",
        "from linebot.exceptions import (\n",
        "    InvalidSignatureError\n",
        ")"
      ],
      "execution_count": 72,
      "outputs": []
    },
    {
      "cell_type": "code",
      "metadata": {
        "id": "TcAFx5zvTDRJ"
      },
      "source": [
        "app = Flask(__name__,static_url_path = \"/material\", static_folder = \"./material/\")\n",
        "run_with_ngrok(app)\n",
        "\n",
        "line_bot_api = LineBotApi(\"9K2lbiSmQIY+xnkbt0MqxyD2SLrHvLY8nTb9Au76oyM+fG7ua4k6khpTN1TMM2aHNpQPDCAgSTgeT/hKZyS7SycCqx+OJaKWezw/tGlIk8P2rOtNIfgR9QEwmPokzcVmn4U1UW802Gs76jLK0cWShAdB04t89/1O/w1cDnyilFU=\")\n",
        "handler = WebhookHandler(\"4257df85eafe8d3c8de0ca1cd8db08a9\")\n"
      ],
      "execution_count": 73,
      "outputs": []
    },
    {
      "cell_type": "code",
      "metadata": {
        "id": "godzHQR4Tvz9"
      },
      "source": [
        "@app.route(\"/\", methods=['POST'])\n",
        "def callback():\n",
        "  signature = request.headers['X-Line-Signature']\n",
        "  body = request.get_data(as_text=True)\n",
        "  print(body)\n",
        "  f = open(\"/content/drive/MyDrive/ai-event.log\",\"a\")\n",
        "  f.write(body)\n",
        "  f.close()\n",
        "\n",
        "  try:\n",
        "    handler.handle(body,signature)\n",
        "  except InvalidSignatureError:\n",
        "    abort(400)\n",
        "  return 'OK'"
      ],
      "execution_count": 74,
      "outputs": []
    },
    {
      "cell_type": "code",
      "metadata": {
        "id": "6JC7cpa2U7du"
      },
      "source": [
        "'''消息素材準備'''\n",
        "\n",
        "#將消息模型，文字收取消息與文字寄發消息引入\n",
        "from linebot.models import (\n",
        "    MessageEvent, TextMessage, TextSendMessage,ImageSendMessage\n",
        ")\n",
        "\n",
        "specific_text_message=TextSendMessage(\"官方建議！用戶以文字消息觸發特殊功能的時候，要加上特殊符號\")\n",
        "\n",
        "analyze_truth_image_message=ImageSendMessage(\n",
        "      original_content_url='https://ibw.bwnet.com.tw/ac_gallery/2019/10/31095c35-c141-b1a9-e881-db41f467a91b_620.jpg',\n",
        "      preview_image_url='https://imgcdn.cna.com.tw/www/WebPhotos/1024/20210127/1024x768_20210127000006.jpg'\n",
        "      )\n"
      ],
      "execution_count": 75,
      "outputs": []
    },
    {
      "cell_type": "code",
      "metadata": {
        "id": "1f3qvMCSX30r"
      },
      "source": [
        "'''\n",
        "設計一個字典\n",
        "當用戶輸入相應文字消息時，系統會從此挑揀消息\n",
        "'''\n",
        "\n",
        "#根據自訂義菜單四張故事線的圖，設定相對應image\n",
        "template_message_dict = {\n",
        "    \"#1\":specific_text_message,\n",
        "    \"#2\":analyze_truth_image_message\n",
        "}"
      ],
      "execution_count": 76,
      "outputs": []
    },
    {
      "cell_type": "code",
      "metadata": {
        "id": "EgFCOsUOaLiE"
      },
      "source": [
        "#用戶發文字消息時，按條件內容，回傳文字消息\n",
        "@handler.add(MessageEvent,message=TextMessage)\n",
        "def handle_message(event):\n",
        "\n",
        "  if(event.message.text.find('#')!= -1):\n",
        "    line_bot_api.reply_message(\n",
        "        event.reply_token,\n",
        "        template_message_dict.get(event.message.text)\n",
        "    )\n",
        "  else:\n",
        "    line_bot_api.reply_message(\n",
        "        event.reply_token,\n",
        "        TextSendMessage(text=\"你輸入無效，請輸入#1或#2\")\n",
        "    )\n"
      ],
      "execution_count": 77,
      "outputs": []
    },
    {
      "cell_type": "code",
      "metadata": {
        "id": "rhRfKufVboR2",
        "outputId": "814a4d00-a6cb-45ea-b455-603b9a09981a",
        "colab": {
          "base_uri": "https://localhost:8080/"
        }
      },
      "source": [
        "app.run()"
      ],
      "execution_count": null,
      "outputs": [
        {
          "output_type": "stream",
          "text": [
            " * Serving Flask app \"__main__\" (lazy loading)\n",
            " * Environment: production\n",
            "\u001b[31m   WARNING: This is a development server. Do not use it in a production deployment.\u001b[0m\n",
            "\u001b[2m   Use a production WSGI server instead.\u001b[0m\n",
            " * Debug mode: off\n"
          ],
          "name": "stdout"
        },
        {
          "output_type": "stream",
          "text": [
            " * Running on http://127.0.0.1:5000/ (Press CTRL+C to quit)\n"
          ],
          "name": "stderr"
        },
        {
          "output_type": "stream",
          "text": [
            " * Running on http://2c5921a6b3de.ngrok.io\n",
            " * Traffic stats available on http://127.0.0.1:4040\n",
            "{\"destination\":\"U84891643b3f7d23f39ca3989530192c5\",\"events\":[{\"type\":\"message\",\"message\":{\"type\":\"text\",\"id\":\"14108095072594\",\"text\":\"1\"},\"timestamp\":1621881089236,\"source\":{\"type\":\"user\",\"userId\":\"U2f25cfa41ca384946f24585d45019074\"},\"replyToken\":\"935bc97e47e64a408986a0877305b54b\",\"mode\":\"active\"}]}\n"
          ],
          "name": "stdout"
        },
        {
          "output_type": "stream",
          "text": [
            "127.0.0.1 - - [24/May/2021 18:31:31] \"POST / HTTP/1.1\" 200 -\n"
          ],
          "name": "stderr"
        },
        {
          "output_type": "stream",
          "text": [
            "{\"destination\":\"U84891643b3f7d23f39ca3989530192c5\",\"events\":[{\"type\":\"message\",\"message\":{\"type\":\"text\",\"id\":\"14108095317985\",\"text\":\"#1\"},\"timestamp\":1621881095120,\"source\":{\"type\":\"user\",\"userId\":\"U2f25cfa41ca384946f24585d45019074\"},\"replyToken\":\"65377979c5644ef6b65ab8d93498929e\",\"mode\":\"active\"}]}\n"
          ],
          "name": "stdout"
        },
        {
          "output_type": "stream",
          "text": [
            "127.0.0.1 - - [24/May/2021 18:31:36] \"POST / HTTP/1.1\" 200 -\n"
          ],
          "name": "stderr"
        },
        {
          "output_type": "stream",
          "text": [
            "{\"destination\":\"U84891643b3f7d23f39ca3989530192c5\",\"events\":[{\"type\":\"message\",\"message\":{\"type\":\"text\",\"id\":\"14108095487633\",\"text\":\"#2\"},\"timestamp\":1621881099332,\"source\":{\"type\":\"user\",\"userId\":\"U2f25cfa41ca384946f24585d45019074\"},\"replyToken\":\"9deb3eb2363545318f4661e7d6f02a3a\",\"mode\":\"active\"}]}\n"
          ],
          "name": "stdout"
        },
        {
          "output_type": "stream",
          "text": [
            "127.0.0.1 - - [24/May/2021 18:31:40] \"POST / HTTP/1.1\" 200 -\n"
          ],
          "name": "stderr"
        }
      ]
    }
  ]
}