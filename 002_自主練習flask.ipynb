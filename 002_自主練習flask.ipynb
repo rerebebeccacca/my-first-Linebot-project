{
  "nbformat": 4,
  "nbformat_minor": 0,
  "metadata": {
    "colab": {
      "name": "002_自主練習flask.ipynb",
      "provenance": []
    },
    "kernelspec": {
      "name": "python3",
      "display_name": "Python 3"
    }
  },
  "cells": [
    {
      "cell_type": "markdown",
      "metadata": {
        "id": "eIWC3DaS671N"
      },
      "source": [
        "當初練習程式的時候，真的是手把手把好幾本書的範例打完\n",
        "\n",
        "雖然現在都忘光了，但是在打的過程中，那些有形的，都給熬成了無形的，融入了血肉\n",
        "\n",
        "感覺就自然來了，請把剛剛的範例打一遍"
      ]
    },
    {
      "cell_type": "code",
      "metadata": {
        "id": "l_YVWPkA7fTN"
      },
      "source": [
        ""
      ],
      "execution_count": 4,
      "outputs": []
    },
    {
      "cell_type": "markdown",
      "metadata": {
        "id": "l4k9E9Dv7ct0"
      },
      "source": [
        "\n",
        "安裝套件\n",
        "\n",
        "引用套件\n",
        "\n",
        "建置主程序\n",
        "\n",
        "為主程序製作交互API接口\n",
        "\n",
        "啟動主程序\n"
      ]
    },
    {
      "cell_type": "code",
      "metadata": {
        "id": "DEhgeZyL7ac2",
        "outputId": "4fc17485-7a49-445e-e849-2f97b8b29322",
        "colab": {
          "base_uri": "https://localhost:8080/"
        }
      },
      "source": [
        "'''\n",
        "安裝套件\n",
        "\n",
        "line-bot-sdk, flask, flask-ngrok 是啥，自己猜啊，自己google啊，記得養成這股自己找的味，外面的程式碼就會了\n",
        "\n",
        "'''\n",
        "!pip install line-bot-sdk flask flask-ngrok"
      ],
      "execution_count": 5,
      "outputs": [
        {
          "output_type": "stream",
          "text": [
            "Requirement already satisfied: line-bot-sdk in /usr/local/lib/python3.7/dist-packages (1.19.0)\n",
            "Requirement already satisfied: flask in /usr/local/lib/python3.7/dist-packages (1.1.2)\n",
            "Requirement already satisfied: flask-ngrok in /usr/local/lib/python3.7/dist-packages (0.0.25)\n",
            "Requirement already satisfied: requests>=2.0 in /usr/local/lib/python3.7/dist-packages (from line-bot-sdk) (2.23.0)\n",
            "Requirement already satisfied: future in /usr/local/lib/python3.7/dist-packages (from line-bot-sdk) (0.16.0)\n",
            "Requirement already satisfied: click>=5.1 in /usr/local/lib/python3.7/dist-packages (from flask) (8.0.0)\n",
            "Requirement already satisfied: Jinja2>=2.10.1 in /usr/local/lib/python3.7/dist-packages (from flask) (2.11.3)\n",
            "Requirement already satisfied: itsdangerous>=0.24 in /usr/local/lib/python3.7/dist-packages (from flask) (2.0.0)\n",
            "Requirement already satisfied: Werkzeug>=0.15 in /usr/local/lib/python3.7/dist-packages (from flask) (2.0.0)\n",
            "Requirement already satisfied: chardet<4,>=3.0.2 in /usr/local/lib/python3.7/dist-packages (from requests>=2.0->line-bot-sdk) (3.0.4)\n",
            "Requirement already satisfied: idna<3,>=2.5 in /usr/local/lib/python3.7/dist-packages (from requests>=2.0->line-bot-sdk) (2.10)\n",
            "Requirement already satisfied: certifi>=2017.4.17 in /usr/local/lib/python3.7/dist-packages (from requests>=2.0->line-bot-sdk) (2020.12.5)\n",
            "Requirement already satisfied: urllib3!=1.25.0,!=1.25.1,<1.26,>=1.21.1 in /usr/local/lib/python3.7/dist-packages (from requests>=2.0->line-bot-sdk) (1.24.3)\n",
            "Requirement already satisfied: MarkupSafe>=0.23 in /usr/local/lib/python3.7/dist-packages (from Jinja2>=2.10.1->flask) (2.0.0)\n"
          ],
          "name": "stdout"
        }
      ]
    },
    {
      "cell_type": "code",
      "metadata": {
        "id": "MWSi9FGB7iZK"
      },
      "source": [
        "'''\n",
        "引用套件\n",
        "\n",
        "將要用的套件引入\n",
        "\n",
        "萬一不知道自己要引入什麼套件，也沒關係，邊開發邊引入，那就好了\n",
        "\n",
        "在未來的某一天，再把它重組，放在一起\n",
        "\n",
        "'''\n",
        "#引用 Flask Web Server 套件\n",
        "from flask import Flask ,request,abort,jsonify \n",
        "\n",
        "#載入json處理套件\n",
        "import json \n",
        "\n",
        "#外部連結自動生成套件\n",
        "from flask_ngrok import run_with_ngrok\n"
      ],
      "execution_count": 6,
      "outputs": []
    },
    {
      "cell_type": "code",
      "metadata": {
        "id": "KfiM2vdx8A9h"
      },
      "source": [
        "'''\n",
        "\n",
        "建置主程序\n",
        "\n",
        "'''\n",
        "#設定Server啟用細節\n",
        "app = Flask(__name__,static_url_path = \"/material\" , static_folder = \"./material/\")\n",
        "run_with_ngrok(app)"
      ],
      "execution_count": 7,
      "outputs": []
    },
    {
      "cell_type": "code",
      "metadata": {
        "id": "DwclGqfC8DoP"
      },
      "source": [
        "'''\n",
        "\n",
        "為主程序創造兩個API接口\n",
        "\n",
        "想像思路\n",
        "當外面的封包進來的時候，轉流到這個方法\n",
        "\n",
        "'''\n",
        "#啟動主程式的API接口，最簡單版本\n",
        "@app.route(\"/\",methods=['GET'])\n",
        "def callback():\n",
        "\n",
        "  return '嗨！新來的！'\n"
      ],
      "execution_count": 8,
      "outputs": []
    },
    {
      "cell_type": "code",
      "metadata": {
        "id": "1GWoOO1b8HC3"
      },
      "source": [
        "'''\n",
        "\n",
        "第二隻接口，\n",
        "\n",
        "啟動主程序的API接口，名為calculate，計算機功能，剖析v1參數與v2參數\n",
        "\n",
        "'''\n",
        "@app.route(\"/calculate\",methods=['GET'])\n",
        "def clculate():\n",
        "  first_parameter = int(request.args.get('v1'))\n",
        "  second_parameter = int(request.args.get('v2'))\n",
        "  return str(first_parameter + second_parameter)\n",
        "  "
      ],
      "execution_count": 9,
      "outputs": []
    },
    {
      "cell_type": "code",
      "metadata": {
        "id": "y56_y9xw8TIH",
        "outputId": "54fe9ae2-10a9-493a-d216-7d12b853ee47",
        "colab": {
          "base_uri": "https://localhost:8080/"
        }
      },
      "source": [
        "# 啟動主程序\n",
        "app.run()"
      ],
      "execution_count": null,
      "outputs": [
        {
          "output_type": "stream",
          "text": [
            " * Serving Flask app \"__main__\" (lazy loading)\n",
            " * Environment: production\n",
            "\u001b[31m   WARNING: This is a development server. Do not use it in a production deployment.\u001b[0m\n",
            "\u001b[2m   Use a production WSGI server instead.\u001b[0m\n",
            " * Debug mode: off\n"
          ],
          "name": "stdout"
        },
        {
          "output_type": "stream",
          "text": [
            " * Running on http://127.0.0.1:5000/ (Press CTRL+C to quit)\n"
          ],
          "name": "stderr"
        },
        {
          "output_type": "stream",
          "text": [
            " * Running on http://e7a4237bac2c.ngrok.io\n",
            " * Traffic stats available on http://127.0.0.1:4040\n"
          ],
          "name": "stdout"
        },
        {
          "output_type": "stream",
          "text": [
            "127.0.0.1 - - [23/May/2021 11:41:21] \"GET / HTTP/1.1\" 200 -\n",
            "127.0.0.1 - - [23/May/2021 11:41:21] \"\u001b[33mGET /favicon.ico HTTP/1.1\u001b[0m\" 404 -\n",
            "127.0.0.1 - - [23/May/2021 12:47:37] \"GET /calculate?v1=5&v2=10 HTTP/1.1\" 200 -\n"
          ],
          "name": "stderr"
        }
      ]
    },
    {
      "cell_type": "code",
      "metadata": {
        "id": "4O3yDl9OA8Sg"
      },
      "source": [
        ""
      ],
      "execution_count": null,
      "outputs": []
    }
  ]
}